{
 "cells": [
  {
   "cell_type": "code",
   "execution_count": null,
   "id": "dc52685b",
   "metadata": {},
   "outputs": [],
   "source": [
    "Q1. Create a Dictionary of lists to store the information of shipments given in the table"
   ]
  },
  {
   "cell_type": "code",
   "execution_count": 1,
   "id": "ad3026bf",
   "metadata": {},
   "outputs": [
    {
     "name": "stdout",
     "output_type": "stream",
     "text": [
      "{101: [1, 3, '14-03-2020', '25-03-2020', 'Area1', 'Area6', 'Delivered', 198], 102: [4, 1, '18-06-2020', '09-07-2020', 'Area2', 'Area4', 'Delivered', 275], 103: [2, 3, '01-12-2020', 'Null', 'Area5', 'Area1', 'In-Transit', 200], 104: [1, 5, '23-06-2020', '25-06-2020', 'Area1', 'Area4', 'Delivered', 314], 105: [3, 4, '29-08-2020', '10-09-2020', 'Area5', 'Area3', 'Delivered', 275], 106: [5, 2, '28-06-2020', 'Null', 'Area3', 'Area1', 'In-Transit', 270]}\n"
     ]
    }
   ],
   "source": [
    " shipment_information = {101:[1,3,\"14-03-2020\",\"25-03-2020\",\"Area1\",\"Area6\",\"Delivered\",198],102:[4,1,\"18-06-2020\",\"09-07-2020\",\"Area2\",\"Area4\",\"Delivered\",275],103:[2,3,\"01-12-2020\",\"Null\",\"Area5\",\"Area1\",\"In-Transit\",200],104:[1,5,\"23-06-2020\",\"25-06-2020\",\"Area1\",\"Area4\",\"Delivered\",314],105:[3,4,\"29-08-2020\",\"10-09-2020\",\"Area5\",\"Area3\",\"Delivered\",275],106:[5,2,\"28-06-2020\",\"Null\",\"Area3\",\"Area1\",\"In-Transit\",270]}\n",
    "print(shipment_information)"
   ]
  },
  {
   "cell_type": "code",
   "execution_count": null,
   "id": "b4f3aa0b",
   "metadata": {},
   "outputs": [],
   "source": [
    "Q2. Create a Dictionary of to store the information of clients given in the table."
   ]
  },
  {
   "cell_type": "code",
   "execution_count": 2,
   "id": "1cd0707d",
   "metadata": {},
   "outputs": [
    {
     "name": "stdout",
     "output_type": "stream",
     "text": [
      "{1: 'Philip', 2: 'Omega III', 3: 'Ramya', 4: 'Romesh', 5: 'John'}\n"
     ]
    }
   ],
   "source": [
    " client_information = {1:\"Philip\",2:\"Omega III\",3:\"Ramya\",4:\"Romesh\",5:\"John\"}\n",
    "print(client_information)"
   ]
  },
  {
   "cell_type": "code",
   "execution_count": null,
   "id": "d8cc541f",
   "metadata": {},
   "outputs": [],
   "source": [
    "Q3. Write a code to replace client’s id with their respective name in shipment dictionary using a loop and dictionary comprehension"
   ]
  },
  {
   "cell_type": "code",
   "execution_count": 3,
   "id": "d6ce717e",
   "metadata": {},
   "outputs": [
    {
     "name": "stdout",
     "output_type": "stream",
     "text": [
      "{101: ['Philip', 'Ramya', '14-03-2020', '25-03-2020', 'Area1', 'Area6', 'Delivered', 198], 102: ['Romesh', 'Philip', '18-06-2020', '09-07-2020', 'Area2', 'Area4', 'Delivered', 275], 103: ['Omega III', 'Ramya', '01-12-2020', 'Null', 'Area5', 'Area1', 'In-Transit', 200], 104: ['Philip', 'John', '23-06-2020', '25-06-2020', 'Area1', 'Area4', 'Delivered', 314], 105: ['Ramya', 'Romesh', '29-08-2020', '10-09-2020', 'Area5', 'Area3', 'Delivered', 275], 106: ['John', 'Omega III', '28-06-2020', 'Null', 'Area3', 'Area1', 'In-Transit', 270]}\n"
     ]
    }
   ],
   "source": [
    "CND = {key:[client_information[k] if k in client_information.keys() else k for k in value] for key, value in shipment_information.items()}\n",
    "print(CND)"
   ]
  },
  {
   "cell_type": "code",
   "execution_count": null,
   "id": "00b5baf9",
   "metadata": {},
   "outputs": [],
   "source": [
    "Q4. Print all shipment details that are sent by Phillip"
   ]
  },
  {
   "cell_type": "code",
   "execution_count": 4,
   "id": "3a9e6da9",
   "metadata": {},
   "outputs": [
    {
     "name": "stdout",
     "output_type": "stream",
     "text": [
      "[['Philip', 'Ramya', '14-03-2020', '25-03-2020', 'Area1', 'Area6', 'Delivered', 198], ['Philip', 'John', '23-06-2020', '25-06-2020', 'Area1', 'Area4', 'Delivered', 314]]\n"
     ]
    }
   ],
   "source": [
    "P = list(filter(lambda value: value[0] == 'Philip',CND.values()))\n",
    "print(P)"
   ]
  },
  {
   "cell_type": "code",
   "execution_count": null,
   "id": "4bca6a6c",
   "metadata": {},
   "outputs": [],
   "source": [
    "Q5. Print all shipment details that are received by Ramya"
   ]
  },
  {
   "cell_type": "code",
   "execution_count": 5,
   "id": "6a9a400c",
   "metadata": {},
   "outputs": [
    {
     "name": "stdout",
     "output_type": "stream",
     "text": [
      "[['Philip', 'Ramya', '14-03-2020', '25-03-2020', 'Area1', 'Area6', 'Delivered', 198], ['Omega III', 'Ramya', '01-12-2020', 'Null', 'Area5', 'Area1', 'In-Transit', 200]]\n"
     ]
    }
   ],
   "source": [
    "R = list(filter(lambda value : value[1] == \"Ramya\", CND.values()))\n",
    "print(R)"
   ]
  },
  {
   "cell_type": "code",
   "execution_count": null,
   "id": "303df5a2",
   "metadata": {},
   "outputs": [],
   "source": [
    "Q6. Print all shipments which are in 'In-Transit' status"
   ]
  },
  {
   "cell_type": "code",
   "execution_count": 6,
   "id": "9a1e03a4",
   "metadata": {},
   "outputs": [
    {
     "name": "stdout",
     "output_type": "stream",
     "text": [
      "[['Omega III', 'Ramya', '01-12-2020', 'Null', 'Area5', 'Area1', 'In-Transit', 200], ['John', 'Omega III', '28-06-2020', 'Null', 'Area3', 'Area1', 'In-Transit', 270]]\n"
     ]
    }
   ],
   "source": [
    "I = list(filter(lambda value : value[-2] == \"In-Transit\", CND.values()))\n",
    "print(I)"
   ]
  },
  {
   "cell_type": "code",
   "execution_count": null,
   "id": "a7c74f91",
   "metadata": {},
   "outputs": [],
   "source": [
    "Q7. Print all shipments which are delivered within 7 days of courier Start date"
   ]
  },
  {
   "cell_type": "code",
   "execution_count": 7,
   "id": "2f00f258",
   "metadata": {},
   "outputs": [
    {
     "name": "stdout",
     "output_type": "stream",
     "text": [
      "['Philip', 'John', '23-06-2020', '25-06-2020', 'Area1', 'Area4', 'Delivered', 314]\n"
     ]
    }
   ],
   "source": [
    "#importing datetime function\n",
    "from datetime import datetime\n",
    "#initializing for loop\n",
    "for v in CND.values():\n",
    "#initializing the condition and using continue statement\n",
    "    if v[3] == \"Null\":\n",
    "        continue\n",
    "#converting the date in string format to datetime format\n",
    "    start = datetime.strptime(v[2], \"%d-%m-%Y\")\n",
    "    delivery = datetime.strptime(v[3], \"%d-%m-%Y\")\n",
    "#initializing the condition to get the output\n",
    "    if (delivery - start).days <= 7:\n",
    "        print(v)"
   ]
  },
  {
   "cell_type": "code",
   "execution_count": null,
   "id": "0c829bf8",
   "metadata": {},
   "outputs": [],
   "source": [
    "Q8. Print all shipments which are delivered after 15 days of courier start date or not yet been delivered."
   ]
  },
  {
   "cell_type": "code",
   "execution_count": 12,
   "id": "12a09b85",
   "metadata": {},
   "outputs": [
    {
     "ename": "SyntaxError",
     "evalue": "invalid syntax (Temp/ipykernel_14592/1057941216.py, line 1)",
     "output_type": "error",
     "traceback": [
      "\u001b[1;36m  File \u001b[1;32m\"C:\\Users\\win10\\AppData\\Local\\Temp/ipykernel_14592/1057941216.py\"\u001b[1;36m, line \u001b[1;32m1\u001b[0m\n\u001b[1;33m    importing datetime function\u001b[0m\n\u001b[1;37m              ^\u001b[0m\n\u001b[1;31mSyntaxError\u001b[0m\u001b[1;31m:\u001b[0m invalid syntax\n"
     ]
    }
   ],
   "source": [
    "importing datetime function\n",
    "from datetime import datetime\n",
    "#initializing for loop\n",
    "for v in CND.values():\n",
    "#initializing the condition and using continue statement    \n",
    "    if v[3] == \"Null\":\n",
    "        print(v)\n",
    "        continue\n",
    "#converting the date in string format to datetime format  \n",
    "    start = datetime.strptime(v[2], \"%d-%m-%Y\")\n",
    "    delivery = datetime.strptime(v[3], \"%d-%m-%Y\")\n",
    "#initializing the condition to get the output\n",
    "    if (delivery - start).days > 15:\n",
    "        print(v)"
   ]
  },
  {
   "cell_type": "code",
   "execution_count": null,
   "id": "6b76da2d",
   "metadata": {},
   "outputs": [],
   "source": [
    "Q 9. Write a function find_all_routes to display all possible routes from senders location to receivers location given in the dictionary for each shipment.¶"
   ]
  },
  {
   "cell_type": "code",
   "execution_count": 10,
   "id": "90fc3985",
   "metadata": {},
   "outputs": [],
   "source": [
    "def find_all_routes(matrix,c,d,visited,path): #creating a user defined function find all routes\n",
    "    visited[c] = True\n",
    "    path.append(c+1)\n",
    "    if c == d:\n",
    "        print(path)\n",
    "    else:\n",
    "        \n",
    "        for i in range(6):   #initializing for loop\n",
    "            if matrix[c][i] == 1 and (visited[i] == False):\n",
    "                find_all_routes(matrix,i,d,visited,path)\n",
    "                \n",
    "    path.pop()  #dealing with dead ends\n",
    "    visited[c] = False\n",
    "    \n",
    "matrix = [[0,1,0,0,0,1],[1,0,1,1,0,0],[0,1,0,1,0,0],[0,1,1,0,1,0],[0,0,0,1,0,0],[1,0,0,0,0,0]]  #nested list\n",
    "visited = [False for i in range(6)]\n",
    "path = []    #declaring a empty list path"
   ]
  },
  {
   "cell_type": "code",
   "execution_count": 11,
   "id": "f8a8e172",
   "metadata": {},
   "outputs": [
    {
     "name": "stdout",
     "output_type": "stream",
     "text": [
      "Shipment ID-  101\n",
      "Sender's Location-  1\n",
      "Receiver's Location-  6\n",
      "All Possible Routes- \n",
      "[1, 6]\n",
      "-----------------------------------\n",
      "Shipment ID-  102\n",
      "Sender's Location-  2\n",
      "Receiver's Location-  4\n",
      "All Possible Routes- \n",
      "[2, 3, 4]\n",
      "[2, 4]\n",
      "-----------------------------------\n",
      "Shipment ID-  103\n",
      "Sender's Location-  5\n",
      "Receiver's Location-  1\n",
      "All Possible Routes- \n",
      "[5, 4, 2, 1]\n",
      "[5, 4, 3, 2, 1]\n",
      "-----------------------------------\n",
      "Shipment ID-  104\n",
      "Sender's Location-  1\n",
      "Receiver's Location-  4\n",
      "All Possible Routes- \n",
      "[1, 2, 3, 4]\n",
      "[1, 2, 4]\n",
      "-----------------------------------\n",
      "Shipment ID-  105\n",
      "Sender's Location-  5\n",
      "Receiver's Location-  3\n",
      "All Possible Routes- \n",
      "[5, 4, 2, 3]\n",
      "[5, 4, 3]\n",
      "-----------------------------------\n",
      "Shipment ID-  106\n",
      "Sender's Location-  3\n",
      "Receiver's Location-  1\n",
      "All Possible Routes- \n",
      "[3, 2, 1]\n",
      "[3, 4, 2, 1]\n",
      "-----------------------------------\n"
     ]
    }
   ],
   "source": [
    "def all_routes(shipment_information):   #creating a user defined function all routes\n",
    "    for i in shipment_information:      #initializing for loop\n",
    "        print(\"Shipment ID- \",i)\n",
    "        s = int(shipment_information[i][4][-1])\n",
    "        print(\"Sender's Location- \",s)\n",
    "        r = int(shipment_information[i][5][-1])\n",
    "        print(\"Receiver's Location- \",r)\n",
    "        print(\"All Possible Routes- \")\n",
    "        find_all_routes(matrix,s-1,r-1,visited,path)\n",
    "        print(\"-----------------------------------\")\n",
    "        \n",
    "all_routes(shipment_information)"
   ]
  },
  {
   "cell_type": "code",
   "execution_count": null,
   "id": "7c4fd046",
   "metadata": {},
   "outputs": [],
   "source": []
  },
  {
   "cell_type": "code",
   "execution_count": null,
   "id": "7ab3f49e",
   "metadata": {},
   "outputs": [],
   "source": []
  },
  {
   "cell_type": "code",
   "execution_count": null,
   "id": "24378436",
   "metadata": {},
   "outputs": [],
   "source": []
  },
  {
   "cell_type": "code",
   "execution_count": null,
   "id": "d74b85f2",
   "metadata": {},
   "outputs": [],
   "source": []
  },
  {
   "cell_type": "code",
   "execution_count": null,
   "id": "2294941d",
   "metadata": {},
   "outputs": [],
   "source": []
  }
 ],
 "metadata": {
  "kernelspec": {
   "display_name": "Python 3 (ipykernel)",
   "language": "python",
   "name": "python3"
  },
  "language_info": {
   "codemirror_mode": {
    "name": "ipython",
    "version": 3
   },
   "file_extension": ".py",
   "mimetype": "text/x-python",
   "name": "python",
   "nbconvert_exporter": "python",
   "pygments_lexer": "ipython3",
   "version": "3.9.12"
  }
 },
 "nbformat": 4,
 "nbformat_minor": 5
}
